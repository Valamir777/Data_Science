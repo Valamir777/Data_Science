{
 "cells": [
  {
   "cell_type": "code",
   "execution_count": 1,
   "id": "44c5a1d1",
   "metadata": {},
   "outputs": [
    {
     "data": {
      "text/plain": [
       "'\\nCreate a function that performs multiplication of a matrix by a scalar: B = cA.\\n'"
      ]
     },
     "execution_count": 1,
     "metadata": {},
     "output_type": "execute_result"
    }
   ],
   "source": [
    "\"\"\"\n",
    "Create a function that performs multiplication of a matrix by a scalar: B = cA.\n",
    "\"\"\""
   ]
  },
  {
   "cell_type": "code",
   "execution_count": 18,
   "id": "be890337",
   "metadata": {},
   "outputs": [
    {
     "name": "stdout",
     "output_type": "stream",
     "text": [
      "Original matrix: [[1, 3, 1], [0, -9, 7], [89, 3, 9]]\n",
      "Matrix multiplied by 2: [[2, 6, 2], [0, -18, 14], [178, 6, 18]]\n"
     ]
    }
   ],
   "source": [
    "import numpy as np\n",
    "def scalar_multMatrix(c, A):\n",
    "    B = list()\n",
    "    for row in A:\n",
    "        b = list()\n",
    "        for value in row:\n",
    "            b.append(value*c)\n",
    "        B.append(b)\n",
    "    return B\n",
    "\n",
    "M = [[1, 3, 1], [0, -9, 7], [89, 3, 9]]\n",
    "D = scalar_multMatrix(2, M)\n",
    "print(\"Original matrix:\",M)\n",
    "print(\"Matrix multiplied by 2:\", D)"
   ]
  },
  {
   "cell_type": "code",
   "execution_count": 3,
   "id": "c5ea1661",
   "metadata": {},
   "outputs": [
    {
     "data": {
      "text/plain": [
       "'\\nCreate a function that performs matrix - matrix multiplication: C = AB\\n'"
      ]
     },
     "execution_count": 3,
     "metadata": {},
     "output_type": "execute_result"
    }
   ],
   "source": [
    "\"\"\"\n",
    "Create a function that performs matrix - matrix multiplication: C = AB\n",
    "\"\"\""
   ]
  },
  {
   "cell_type": "code",
   "execution_count": null,
   "id": "6cb20450",
   "metadata": {},
   "outputs": [],
   "source": []
  }
 ],
 "metadata": {
  "kernelspec": {
   "display_name": "Python 3 (ipykernel)",
   "language": "python",
   "name": "python3"
  },
  "language_info": {
   "codemirror_mode": {
    "name": "ipython",
    "version": 3
   },
   "file_extension": ".py",
   "mimetype": "text/x-python",
   "name": "python",
   "nbconvert_exporter": "python",
   "pygments_lexer": "ipython3",
   "version": "3.10.11"
  }
 },
 "nbformat": 4,
 "nbformat_minor": 5
}
