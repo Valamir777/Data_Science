{
 "cells": [
  {
   "cell_type": "code",
   "execution_count": 1,
   "id": "f447d7f0",
   "metadata": {},
   "outputs": [],
   "source": [
    "#Many people think about their height in feet and inches, even in some countries that primarily use the metric system.\n",
    "#Write a program that reads a number of feet from the user, followed by a number of inches. \n",
    "#Once these values are read, your program should compute and display the equivalent number of centimeters.\n",
    "#Hint: One foot is 12 inches. One inch is 2.54 centimeters. A simple code that only uses inches."
   ]
  },
  {
   "cell_type": "code",
   "execution_count": 5,
   "id": "48925061",
   "metadata": {},
   "outputs": [
    {
     "name": "stdout",
     "output_type": "stream",
     "text": [
      "Feet: 5\n",
      "Inches: 10\n",
      "You are  177.8 cm tall\n"
     ]
    }
   ],
   "source": [
    "feet, inches = int(input(\"Feet: \")), int(input(\"Inches: \"))\n",
    "inches += feet*12\n",
    "print(f\"You are \", inches*2.54,\"cm tall\")"
   ]
  }
 ],
 "metadata": {
  "kernelspec": {
   "display_name": "Python 3 (ipykernel)",
   "language": "python",
   "name": "python3"
  },
  "language_info": {
   "codemirror_mode": {
    "name": "ipython",
    "version": 3
   },
   "file_extension": ".py",
   "mimetype": "text/x-python",
   "name": "python",
   "nbconvert_exporter": "python",
   "pygments_lexer": "ipython3",
   "version": "3.10.11"
  }
 },
 "nbformat": 4,
 "nbformat_minor": 5
}
