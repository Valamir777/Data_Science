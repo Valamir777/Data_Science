{
 "cells": [
  {
   "cell_type": "code",
   "execution_count": 1,
   "id": "c4adc2a4",
   "metadata": {},
   "outputs": [
    {
     "data": {
      "text/plain": [
       "'\\nIn a particular jurisdiction, taxi fares consist of a base fare of \\\\$4.00, plus \\\\$0.25 for every 140 meters traveled. \\nWrite a function that takes the distance traveled (in kilometers) \\nas its only parameter and returns the total fare as its only result. \\nWrite a main program that demonstrates the function.\\n\\nHint: Taxi fares change over time. Use constants to represent the base fare and \\nthe variable portion of the fare so that the program can be updated easily when the rates increase.\\n'"
      ]
     },
     "execution_count": 1,
     "metadata": {},
     "output_type": "execute_result"
    }
   ],
   "source": [
    "\"\"\"\n",
    "In a particular jurisdiction, taxi fares consist of a base fare of \\$4.00, plus \\$0.25 for every 140 meters traveled. \n",
    "Write a function that takes the distance traveled (in kilometers) \n",
    "as its only parameter and returns the total fare as its only result. \n",
    "Write a main program that demonstrates the function.\n",
    "\n",
    "Hint: Taxi fares change over time. Use constants to represent the base fare and \n",
    "the variable portion of the fare so that the program can be updated easily when the rates increase.\n",
    "\"\"\""
   ]
  },
  {
   "cell_type": "code",
   "execution_count": 20,
   "id": "6668c3ef",
   "metadata": {},
   "outputs": [
    {
     "name": "stdout",
     "output_type": "stream",
     "text": [
      "Enter distance traveled in kilometers: 1\n",
      "35.0\n"
     ]
    }
   ],
   "source": [
    "total_fare = 0\n",
    "i = 0\n",
    "constant_rate = 4\n",
    "varialbe_rate = .25\n",
    "travel_distance = float(input(\"Enter distance traveled in kilometers: \"))*1000\n",
    "\n",
    "while i < round(travel_distance/140):\n",
    "    i +=1\n",
    "    total_fare = total_fare + 4 + (.25*i)\n",
    "print(total_fare)"
   ]
  },
  {
   "cell_type": "code",
   "execution_count": null,
   "id": "2e12e8c7",
   "metadata": {},
   "outputs": [],
   "source": []
  }
 ],
 "metadata": {
  "kernelspec": {
   "display_name": "Python 3 (ipykernel)",
   "language": "python",
   "name": "python3"
  },
  "language_info": {
   "codemirror_mode": {
    "name": "ipython",
    "version": 3
   },
   "file_extension": ".py",
   "mimetype": "text/x-python",
   "name": "python",
   "nbconvert_exporter": "python",
   "pygments_lexer": "ipython3",
   "version": "3.10.11"
  }
 },
 "nbformat": 4,
 "nbformat_minor": 5
}
