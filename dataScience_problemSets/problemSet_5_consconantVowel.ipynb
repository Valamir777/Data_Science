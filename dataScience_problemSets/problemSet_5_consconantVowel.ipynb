{
 "cells": [
  {
   "cell_type": "code",
   "execution_count": 2,
   "id": "34907e03",
   "metadata": {},
   "outputs": [
    {
     "data": {
      "text/plain": [
       "'\\nIn this exercise you will create a program that reads a letter of the alphabet from the user.\\nIf the user enters a, e, i, o or u then your program should display a message indicating that the entered letter is a vowel.\\nIf the user enters y then your program should display a message indicating that sometimes y is a vowel, \\nand sometimes y is a consonant. \\nOtherwise your program should display a message indicating that the letter is a consonant.\\n'"
      ]
     },
     "execution_count": 2,
     "metadata": {},
     "output_type": "execute_result"
    }
   ],
   "source": [
    "\"\"\"\n",
    "In this exercise you will create a program that reads a letter of the alphabet from the user.\n",
    "If the user enters a, e, i, o or u then your program should display a message indicating that the entered letter is a vowel.\n",
    "If the user enters y then your program should display a message indicating that sometimes y is a vowel, \n",
    "and sometimes y is a consonant. \n",
    "Otherwise your program should display a message indicating that the letter is a consonant.\n",
    "\"\"\""
   ]
  },
  {
   "cell_type": "code",
   "execution_count": 30,
   "id": "669f1b31",
   "metadata": {},
   "outputs": [
    {
     "name": "stdout",
     "output_type": "stream",
     "text": [
      "please enter a letter from the latin alphabet: e\n",
      "e is a vowel.\n"
     ]
    }
   ],
   "source": [
    "vowels = ['a', 'e', 'i', 'o', 'u']\n",
    "consonants = list(string.ascii_lowercase)\n",
    "for i in range(len(vowels)):\n",
    "    consonants.remove(vowels[i])\n",
    "letter = input(f\"please enter a letter from the latin alphabet: \").lower()\n",
    "if letter in vowels or consonants:\n",
    "    if letter == 'y':\n",
    "        print(f\"{letter} is sometimes a vowel and other times a consonant!\")\n",
    "    elif letter in vowels:\n",
    "        print(f\"{letter} is a vowel.\")\n",
    "    elif letter in consonants:\n",
    "        print(f\"{letter} is a consonants\")\n",
    "else:\n",
    "    print(f\"{letter} is an invalid entry\")"
   ]
  },
  {
   "cell_type": "code",
   "execution_count": null,
   "id": "51450262",
   "metadata": {},
   "outputs": [],
   "source": []
  }
 ],
 "metadata": {
  "kernelspec": {
   "display_name": "Python 3 (ipykernel)",
   "language": "python",
   "name": "python3"
  },
  "language_info": {
   "codemirror_mode": {
    "name": "ipython",
    "version": 3
   },
   "file_extension": ".py",
   "mimetype": "text/x-python",
   "name": "python",
   "nbconvert_exporter": "python",
   "pygments_lexer": "ipython3",
   "version": "3.10.11"
  }
 },
 "nbformat": 4,
 "nbformat_minor": 5
}
