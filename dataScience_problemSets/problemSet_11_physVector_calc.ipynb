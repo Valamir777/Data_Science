{
 "cells": [
  {
   "cell_type": "code",
   "execution_count": 1,
   "id": "96e319e9",
   "metadata": {},
   "outputs": [
    {
     "data": {
      "text/plain": [
       "'\\nCreate a function that computes an angle between two vectors. \\nAfter computing the angle cosine use inverse trigonometric function arc cosine to recover the angle. \\nYou will find this function in either math or numpy modules: math.acos or numpy.arccos, respectively.\\n'"
      ]
     },
     "execution_count": 1,
     "metadata": {},
     "output_type": "execute_result"
    }
   ],
   "source": [
    "\"\"\"\n",
    "Create a function that computes an angle between two vectors. \n",
    "After computing the angle cosine use inverse trigonometric function arc cosine to recover the angle. \n",
    "You will find this function in either math or numpy modules: math.acos or numpy.arccos, respectively.\n",
    "\"\"\""
   ]
  },
  {
   "cell_type": "code",
   "execution_count": 39,
   "id": "d3c2694c",
   "metadata": {},
   "outputs": [
    {
     "name": "stdout",
     "output_type": "stream",
     "text": [
      "109° \n"
     ]
    }
   ],
   "source": [
    "import numpy as np\n",
    "import cmath\n",
    "import math\n",
    "\n",
    "#Step_1: find A X B of vectors\n",
    "def AxB(V1, V2):\n",
    "    return ((V1[0]*V2[0])+(V1[1]*V2[1])+(V1[2]*V2[2]))\n",
    "#Step_2: find |a| & |b|\n",
    "def absval(V):\n",
    "    return cmath.sqrt((V[0]**2)+(V[1]**2)+(V[2]**2))\n",
    "#step_3: find angle between vectors\n",
    "def find_angle(AXB, aA, aB):\n",
    "    return AXB/(aA*aB)\n",
    "\n",
    "#Test Vecor\n",
    "V1, V2 = [4, -3, 5], [9, 7, -10]\n",
    "\n",
    "print(f\"{round(math.degrees(cmath.acos((find_angle(AxB(V1, V2), absval(V1), absval(V2)))).real))}\\N{DEGREE SIGN} \")"
   ]
  },
  {
   "cell_type": "code",
   "execution_count": 40,
   "id": "960f366f",
   "metadata": {},
   "outputs": [
    {
     "data": {
      "text/plain": [
       "'\\nA unit vector directed along a coordinate axis contains all 0 except the single 1 at a certain position. \\nFor example in three-dimensional Cartesian coordinate system these vectors are (1, 0, 0), (0, 1, 0), and (0, 0, 1).\\nCreate a function that accepts two parameter: \\nspace dimension dim and an order number of a vector vec_num. \\nThis function has to return the corresponding unit vector. \\nFor example for dim=5 and vec_num=2 it has to be (0, 1, 0, 0, 0).\\n'"
      ]
     },
     "execution_count": 40,
     "metadata": {},
     "output_type": "execute_result"
    }
   ],
   "source": [
    "\"\"\"\n",
    "A unit vector directed along a coordinate axis contains all 0 except the single 1 at a certain position. \n",
    "For example in three-dimensional Cartesian coordinate system these vectors are (1, 0, 0), (0, 1, 0), and (0, 0, 1).\n",
    "Create a function that accepts two parameter: \n",
    "space dimension dim and an order number of a vector vec_num. \n",
    "This function has to return the corresponding unit vector. \n",
    "For example for dim=5 and vec_num=2 it has to be (0, 1, 0, 0, 0).\n",
    "\"\"\""
   ]
  },
  {
   "cell_type": "code",
   "execution_count": 47,
   "id": "1ba15ffb",
   "metadata": {},
   "outputs": [
    {
     "name": "stdout",
     "output_type": "stream",
     "text": [
      "[0 1 0 0 0]\n"
     ]
    }
   ],
   "source": [
    "import numpy as np\n",
    "def getUnit_vector(dim, vec_num):\n",
    "    vector = np.zeros((dim), dtype=int)\n",
    "    vector[vec_num-1]=1\n",
    "    return print(vector)\n",
    "\n",
    "#test case\n",
    "dim=5\n",
    "vec_num=2\n",
    "getUnit_vector(dim, vec_num)"
   ]
  }
 ],
 "metadata": {
  "kernelspec": {
   "display_name": "Python 3 (ipykernel)",
   "language": "python",
   "name": "python3"
  },
  "language_info": {
   "codemirror_mode": {
    "name": "ipython",
    "version": 3
   },
   "file_extension": ".py",
   "mimetype": "text/x-python",
   "name": "python",
   "nbconvert_exporter": "python",
   "pygments_lexer": "ipython3",
   "version": "3.10.11"
  }
 },
 "nbformat": 4,
 "nbformat_minor": 5
}
