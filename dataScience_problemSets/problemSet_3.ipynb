{
 "cells": [
  {
   "cell_type": "code",
   "execution_count": 38,
   "id": "5bedef48",
   "metadata": {},
   "outputs": [
    {
     "name": "stdout",
     "output_type": "stream",
     "text": [
      "    order                    name  height(cm)\n",
      "3       4           James Madison         163\n",
      "21     23       Benjamin Harrison         168\n",
      "7       8        Martin Van Buren         168\n",
      "1       2              John Adams         170\n",
      "22     25        William McKinley         170\n",
      "5       6       John Quincy Adams         171\n",
      "17     18        Ulysses S. Grant         173\n",
      "10     11           James K. Polk         173\n",
      "11     12          Zachary Taylor         173\n",
      "8       9  William Henry Harrison         173\n",
      "18     19     Rutherford B. Hayes         174\n",
      "12     13        Millard Fillmore         175\n",
      "30     33         Harry S. Truman         175\n",
      "36     39            Jimmy Carter         177\n",
      "13     14         Franklin Pierce         178\n",
      "16     17          Andrew Johnson         178\n",
      "27     30         Calvin Coolidge         178\n",
      "23     26      Theodore Roosevelt         178\n",
      "31     34    Dwight D. Eisenhower         179\n",
      "25     28          Woodrow Wilson         180\n",
      "34     37           Richard Nixon         182\n",
      "28     31          Herbert Hoover         182\n",
      "40     43          George W. Bush         182\n",
      "24     27     William Howard Taft         182\n",
      "43     46            Joseph Biden         182\n",
      "20     21       Chester A. Arthur         183\n",
      "26     29       Warren G. Harding         183\n",
      "19     20       James A. Garfield         183\n",
      "14     15          James Buchanan         183\n",
      "9      10              John Tyler         183\n",
      "32     35         John F. Kennedy         183\n",
      "4       5            James Monroe         183\n",
      "35     38             Gerald Ford         183\n",
      "41     44            Barack Obama         185\n",
      "37     40           Ronald Reagan         185\n",
      "6       7          Andrew Jackson         185\n",
      "29     32   Franklin D. Roosevelt         188\n",
      "38     41       George H. W. Bush         188\n",
      "39     42            Bill Clinton         188\n",
      "2       3        Thomas Jefferson         189\n",
      "0       1       George Washington         189\n",
      "42     45            Donald Trump         191\n",
      "33     36       Lyndon B. Johnson         193\n",
      "15     16         Abraham Lincoln         193\n",
      "['James Madison', 'Benjamin Harrison', 'Martin Van Buren', 'John Adams', 'William McKinley', 'John Quincy Adams', 'Ulysses S. Grant', 'James K. Polk', 'Zachary Taylor', 'William Henry Harrison', 'Rutherford B. Hayes', 'Millard Fillmore', 'Harry S. Truman', 'Jimmy Carter', 'Franklin Pierce', 'Andrew Johnson', 'Calvin Coolidge', 'Theodore Roosevelt', 'Dwight D. Eisenhower', 'Woodrow Wilson', 'Richard Nixon', 'Herbert Hoover', 'George W. Bush', 'William Howard Taft', 'Joseph Biden', 'Chester A. Arthur', 'Warren G. Harding', 'James A. Garfield', 'James Buchanan', 'John Tyler', 'John F. Kennedy', 'James Monroe', 'Gerald Ford', 'Barack Obama', 'Ronald Reagan', 'Andrew Jackson', 'Franklin D. Roosevelt', 'George H. W. Bush', 'Bill Clinton', 'Thomas Jefferson', 'George Washington', 'Donald Trump', 'Lyndon B. Johnson', 'Abraham Lincoln']\n"
     ]
    }
   ],
   "source": [
    "import pandas as pd\n",
    "\"\"\"\n",
    "Create a program that reads both president heights and names from a csv file. \n",
    "Collect names in a list, do not use a NumPy array for them. \n",
    "Then compute the smallest, the biggest and median heights and print them with the corresponding names.\n",
    "\n",
    "Hint. Median is the value in the middle of a sorted array.\n",
    "\"\"\"\n",
    "presidentsData = pd.read_csv('data/presidents.csv').sort_values(by='height(cm)')\n",
    "presidentsNames = list(presidentsData['name'])\n",
    "print(presidentsData)\n",
    "print(presidentsNames)"
   ]
  },
  {
   "cell_type": "code",
   "execution_count": 47,
   "id": "41ef2dbf",
   "metadata": {},
   "outputs": [
    {
     "name": "stdout",
     "output_type": "stream",
     "text": [
      "Shortest President: James Madison Height 163cm\n",
      "  Median Presidents: ('Joseph Biden', 'William Howard Taft', 'George W. Bush', 'Herbert Hoover') Height 182cm\n",
      " Tallest President: Abraham Lincoln Height 193cm\n"
     ]
    },
    {
     "name": "stderr",
     "output_type": "stream",
     "text": [
      "C:\\Users\\Taylor\\AppData\\Local\\Temp\\ipykernel_10832\\3323059281.py:2: FutureWarning: The default value of numeric_only in DataFrame.median is deprecated. In a future version, it will default to False. In addition, specifying 'numeric_only=None' is deprecated. Select only valid columns or specify the value of numeric_only to silence this warning.\n",
      "  print(f\"  Median Presidents: {presidentsNames[24], presidentsNames[23], presidentsNames[22], presidentsNames[21]} Height {round(presidentsData.median()['height(cm)'])}cm\")\n"
     ]
    }
   ],
   "source": [
    "print(f\"Shortest President: {presidentsNames[0]} Height {presidentsData.min()['height(cm)']}cm\")\n",
    "print(f\"  Median Presidents: {presidentsNames[24], presidentsNames[23], presidentsNames[22], presidentsNames[21]} Height {round(presidentsData.median()['height(cm)'])}cm\")\n",
    "print(f\" Tallest President: {presidentsNames[43]} Height {presidentsData.max()['height(cm)']}cm\")"
   ]
  },
  {
   "cell_type": "code",
   "execution_count": null,
   "id": "09d5899c",
   "metadata": {},
   "outputs": [],
   "source": []
  }
 ],
 "metadata": {
  "kernelspec": {
   "display_name": "Python 3 (ipykernel)",
   "language": "python",
   "name": "python3"
  },
  "language_info": {
   "codemirror_mode": {
    "name": "ipython",
    "version": 3
   },
   "file_extension": ".py",
   "mimetype": "text/x-python",
   "name": "python",
   "nbconvert_exporter": "python",
   "pygments_lexer": "ipython3",
   "version": "3.10.11"
  }
 },
 "nbformat": 4,
 "nbformat_minor": 5
}
