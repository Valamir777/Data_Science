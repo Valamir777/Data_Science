{
 "cells": [
  {
   "cell_type": "code",
   "execution_count": 2,
   "id": "5a1d7645",
   "metadata": {},
   "outputs": [
    {
     "data": {
      "text/plain": [
       "'\\nIt is commonly said that one human year is equivalent to 7 dog years.\\nHowever this simple conversion fails to recognize that dogs reach adulthood in approximately two years.\\nAs a result, some people believe that it is better to count each of the first two human years as 10.5 dog years,\\nand then count each additional human year as 4 dog years.\\n\\nWrite a program that implements the conversion from human years to dog years described in the previous paragraph.\\nEnsure that your program works correctly for conversions of less than two human years and for conversions of two or more human years. Your program should display an appropriate error message if the user enters a negative number.\\n'"
      ]
     },
     "execution_count": 2,
     "metadata": {},
     "output_type": "execute_result"
    }
   ],
   "source": [
    "\"\"\"\n",
    "It is commonly said that one human year is equivalent to 7 dog years.\n",
    "However this simple conversion fails to recognize that dogs reach adulthood in approximately two years.\n",
    "As a result, some people believe that it is better to count each of the first two human years as 10.5 dog years,\n",
    "and then count each additional human year as 4 dog years.\n",
    "\n",
    "Write a program that implements the conversion from human years to dog years described in the previous paragraph.\n",
    "Ensure that your program works correctly for conversions of less than two human years and for conversions of two or more human years.\n",
    "Your program should display an appropriate error message if the user enters a negative number.\n",
    "\"\"\""
   ]
  },
  {
   "cell_type": "code",
   "execution_count": null,
   "id": "ec42c03e",
   "metadata": {},
   "outputs": [
    {
     "name": "stdout",
     "output_type": "stream",
     "text": [
      "Select (H)human or (D)dog to convert from seleciton to alternativex\n"
     ]
    }
   ],
   "source": [
    "years = 'x'\n",
    "boolean = 'X'\n",
    "while boolean != 'H' or 'D':\n",
    "    boolean = str(input(\"Select (H)human or (D)dog to convert from seleciton to alternative\")).upper()\n",
    "    \n",
    "    if boolean == 'H':\n",
    "        TYPE = 'human'\n",
    "    elif boolean == 'D':\n",
    "        TYPE = 'dog'\n",
    "    else:\n",
    "        TYPE = 'invalid'\n",
    "    if boolean == 'H' or 'D':\n",
    "        while years != float:\n",
    "            years = input(f'How many years old in {TYPE} years? ')\n",
    "            if years != float:\n",
    "                print(\"sorry this is invalid try again\")\n",
    "        if boolean == 'H':\n",
    "            if years >= 2:\n",
    "                print((years-2)*4 + 21)\n",
    "            else:\n",
    "                print(years*10.5)\n",
    "        elif boolean == 'D':\n",
    "            if years >= 2:\n",
    "                print(21+(4*(years-2)))\n",
    "            else:\n",
    "                print(years*10.5)"
   ]
  },
  {
   "cell_type": "code",
   "execution_count": null,
   "id": "b3e07346",
   "metadata": {},
   "outputs": [],
   "source": []
  }
 ],
 "metadata": {
  "kernelspec": {
   "display_name": "Python 3 (ipykernel)",
   "language": "python",
   "name": "python3"
  },
  "language_info": {
   "codemirror_mode": {
    "name": "ipython",
    "version": 3
   },
   "file_extension": ".py",
   "mimetype": "text/x-python",
   "name": "python",
   "nbconvert_exporter": "python",
   "pygments_lexer": "ipython3",
   "version": "3.10.11"
  }
 },
 "nbformat": 4,
 "nbformat_minor": 5
}
