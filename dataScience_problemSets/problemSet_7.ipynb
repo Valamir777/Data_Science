{
 "cells": [
  {
   "cell_type": "code",
   "execution_count": 1,
   "id": "762ad68f",
   "metadata": {},
   "outputs": [
    {
     "data": {
      "text/plain": [
       "'\\nWhile the popularity of cheques as a payment method has diminished in recent years, \\nsome companies still issue them to pay employees or vendors. \\nThe amount being paid normally appears on a cheque twice, with one occurrence written using digits, \\nand the other occurrence written using English words. \\nRepeating the amount in two different forms makes it much more difficult for an unscrupulous employee \\nor vendor to modify the amount on the cheque before depositing it.\\n\\nIn this exercise, your task is to create a function that takes an integer between 0 and 999 as its only parameter, \\nand returns a string containing the English words for that number. \\nFor example, if the parameter to the function is 142 then your function should return \"one hundred forty two\". \\nUse one or more dictionaries to implement your solution rather than large if/elif/else constructs. \\nInclude a main program that reads an integer from the user and displays its value in English words.\\n'"
      ]
     },
     "execution_count": 1,
     "metadata": {},
     "output_type": "execute_result"
    }
   ],
   "source": [
    "\"\"\"\n",
    "While the popularity of cheques as a payment method has diminished in recent years, \n",
    "some companies still issue them to pay employees or vendors. \n",
    "The amount being paid normally appears on a cheque twice, with one occurrence written using digits, \n",
    "and the other occurrence written using English words. \n",
    "Repeating the amount in two different forms makes it much more difficult for an unscrupulous employee \n",
    "or vendor to modify the amount on the cheque before depositing it.\n",
    "\n",
    "In this exercise, your task is to create a function that takes an integer between 0 and 999 as its only parameter, \n",
    "and returns a string containing the English words for that number. \n",
    "For example, if the parameter to the function is 142 then your function should return \"one hundred forty two\". \n",
    "Use one or more dictionaries to implement your solution rather than large if/elif/else constructs. \n",
    "Include a main program that reads an integer from the user and displays its value in English words.\n",
    "\"\"\""
   ]
  },
  {
   "cell_type": "code",
   "execution_count": 14,
   "id": "ad90d4df",
   "metadata": {},
   "outputs": [
    {
     "name": "stdout",
     "output_type": "stream",
     "text": [
      "Enter a number between 0-999: 136\n",
      "one hundred  thirty  six \n"
     ]
    }
   ],
   "source": [
    "ones_place = {0: \"zero\", 1: \"one \", 2: \"two \", 3: \"three \", 4: \"four \", 5: \"five \", 6: \"six \", 7: \"seven \", 8: \"eight \",\n",
    "                 9: \"nine \", 10: \"ten \", 11: \"eleven \", 12: \"twelve \", 13: \"thirteen \", 14: \"fourteen \", 15: \"fifteen \",\n",
    "                 16: \"sixteen \", 17: \"seventeen \", 18: \"eighteen \", 19: \"nineteen \" }\n",
    "                \n",
    "tens_place = { 0: \"\", 2: \"twenty \", 3: \"thirty \", 4: \"forty \", 5: \"fifty \", 6: \"sixty \", 7: \"seventy \", 8: \"eighty \", 9: \"ninety \"}\n",
    "\n",
    "hundreds_place = {0: \"\", 1: \"one hundred \", 2: \"two hundred \", 3: \"three hundred \", 4: \"four hundred \", \n",
    "                 5: \"five hundred \", 6: \"six hundred \", 7: \"seven hundred \", 8: \"eight hundred \", 9: \"nine hundred \"}\n",
    "\n",
    "while True:\n",
    "    number = int(input(\"Enter a number between 0-999: \"))\n",
    "    if number in range(0, 999):\n",
    "        if number % 100 > 19:\n",
    "            print(f\"{hundreds_place[int(number/100)]} {tens_place[int((number%100)/10)]} {ones_place[int((number%100)%10)]}\")\n",
    "        else:\n",
    "            print(f\"{hundreds_place[int(number/100)]} {ones_place[int(number%100)]}\")\n",
    "        break\n",
    "    else:\n",
    "        print(\"Invalid entry try again\")"
   ]
  },
  {
   "cell_type": "code",
   "execution_count": null,
   "id": "66100163",
   "metadata": {},
   "outputs": [],
   "source": []
  }
 ],
 "metadata": {
  "kernelspec": {
   "display_name": "Python 3 (ipykernel)",
   "language": "python",
   "name": "python3"
  },
  "language_info": {
   "codemirror_mode": {
    "name": "ipython",
    "version": 3
   },
   "file_extension": ".py",
   "mimetype": "text/x-python",
   "name": "python",
   "nbconvert_exporter": "python",
   "pygments_lexer": "ipython3",
   "version": "3.10.11"
  }
 },
 "nbformat": 4,
 "nbformat_minor": 5
}
