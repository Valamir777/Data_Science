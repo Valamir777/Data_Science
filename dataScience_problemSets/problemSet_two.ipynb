{
 "cells": [
  {
   "cell_type": "code",
   "execution_count": 2,
   "id": "d892dd3b",
   "metadata": {},
   "outputs": [
    {
     "data": {
      "text/plain": [
       "'\\nA bakery sells loaves of bread for $3.49 each. Day old bread is discounted by 60 percent. \\nWrite a program that begins by reading the number of loaves of day old bread being purchased from the user. \\nThen your program should display the regular price for the bread, the discount because it is a day old, \\nand the total price. Each of these amounts should be displayed on its own line with an appropriate label. \\nAll of the values should be displayed using two decimal places, \\nand the decimal points in all of the numbers should be aligned when reasonable values are entered by the user.\\n'"
      ]
     },
     "execution_count": 2,
     "metadata": {},
     "output_type": "execute_result"
    }
   ],
   "source": [
    "'''\n",
    "A bakery sells loaves of bread for $3.49 each. Day old bread is discounted by 60 percent. \n",
    "Write a program that begins by reading the number of loaves of day old bread being purchased from the user. \n",
    "Then your program should display the regular price for the bread, the discount because it is a day old, \n",
    "and the total price. Each of these amounts should be displayed on its own line with an appropriate label. \n",
    "All of the values should be displayed using two decimal places, \n",
    "and the decimal points in all of the numbers should be aligned when reasonable values are entered by the user.\n",
    "'''"
   ]
  },
  {
   "cell_type": "code",
   "execution_count": 19,
   "id": "603fdddb",
   "metadata": {},
   "outputs": [
    {
     "name": "stdout",
     "output_type": "stream",
     "text": [
      "# of Old Loaves?: 6\n",
      "# of Fresh Loaves?: 8\n",
      "Price of Fresh Loaf: 3.49$ Price of Day Old Loaf: 1.40$\n",
      "Regular Price: 49.00$\n",
      "Discounted Price: 36.00$\n"
     ]
    }
   ],
   "source": [
    "freshLoaf_price = 3.49\n",
    "oldLoaf_price = round(freshLoaf_price - freshLoaf_price*0.6, ndigits=2)\n",
    "quantityOld_loaves, quantityFresh_loaves = int(input(f\"# of Old Loaves?: \")), int(input(f\"# of Fresh Loaves?: \"))\n",
    "print(f\"Price of Fresh Loaf: {freshLoaf_price:.2f}$ Price of Day Old Loaf: {oldLoaf_price:.2f}$\")\n",
    "print(f\"Regular Price: {round((quantityOld_loaves + quantityFresh_loaves)*freshLoaf_price):.2f}$\")\n",
    "print(f\"Discounted Price: {round((quantityOld_loaves*oldLoaf_price)+(quantityFresh_loaves*freshLoaf_price)):.2f}$\")"
   ]
  },
  {
   "cell_type": "code",
   "execution_count": null,
   "id": "9cc22e0f",
   "metadata": {},
   "outputs": [],
   "source": []
  }
 ],
 "metadata": {
  "kernelspec": {
   "display_name": "Python 3 (ipykernel)",
   "language": "python",
   "name": "python3"
  },
  "language_info": {
   "codemirror_mode": {
    "name": "ipython",
    "version": 3
   },
   "file_extension": ".py",
   "mimetype": "text/x-python",
   "name": "python",
   "nbconvert_exporter": "python",
   "pygments_lexer": "ipython3",
   "version": "3.10.11"
  }
 },
 "nbformat": 4,
 "nbformat_minor": 5
}
