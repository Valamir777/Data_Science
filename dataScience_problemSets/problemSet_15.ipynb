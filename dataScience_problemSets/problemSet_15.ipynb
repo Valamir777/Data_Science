{
 "cells": [
  {
   "cell_type": "code",
   "execution_count": 1,
   "id": "5f5ce3e0",
   "metadata": {},
   "outputs": [
    {
     "data": {
      "text/plain": [
       "'\\nRolling two dice find the probability that they land with an even sum of points on top and at least one die has six points.\\n'"
      ]
     },
     "execution_count": 1,
     "metadata": {},
     "output_type": "execute_result"
    }
   ],
   "source": [
    "\"\"\"\n",
    "Rolling two dice find the probability that they land with an even sum of points on top and at least one die has six points.\n",
    "\"\"\""
   ]
  },
  {
   "cell_type": "code",
   "execution_count": 1,
   "id": "17875763",
   "metadata": {},
   "outputs": [
    {
     "name": "stdout",
     "output_type": "stream",
     "text": [
      "Probability is 0.13947% likely to occur\n"
     ]
    }
   ],
   "source": [
    "import random\n",
    "def dieProb(Goals, Rolls):\n",
    "    x = Rolls\n",
    "    while Rolls > 0:\n",
    "        die1=random.randint(1,6)\n",
    "        die2=random.randint(1,6)\n",
    "        if (die1 + die2) % 2 == 0 and (die1 == 6 or die2 == 6):\n",
    "            Goals += 1\n",
    "        Rolls -= 1\n",
    "    return Goals/x\n",
    "    \n",
    "print(f\"Probability is {dieProb(0, 100000)}% likely to occur\")"
   ]
  },
  {
   "cell_type": "code",
   "execution_count": 3,
   "id": "24a525ef",
   "metadata": {},
   "outputs": [
    {
     "name": "stdout",
     "output_type": "stream",
     "text": [
      "A score of 2 has a 3% of occurring.\n",
      "A score of 3 has a 6% of occurring.\n",
      "A score of 4 has a 8% of occurring.\n",
      "A score of 5 has a 11% of occurring.\n",
      "A score of 6 has a 14% of occurring.\n",
      "A score of 7 has a 17% of occurring.\n",
      "A score of 8 has a 14% of occurring.\n",
      "A score of 9 has a 11% of occurring.\n",
      "A score of 10 has a 8% of occurring.\n",
      "A score of 11 has a 6% of occurring.\n",
      "A score of 12 has a 3% of occurring.\n",
      "\n"
     ]
    }
   ],
   "source": [
    "\"\"\"\n",
    "Consider a game where the score is the maximum value from two dice. Compute the probability of each event from 1 to 6.\n",
    "\"\"\"\n",
    "from collections import Counter\n",
    "\n",
    "\n",
    "# Function which takes two die from 1 to 6 and calculates the probability of each score which can occur\n",
    "def Prob():\n",
    "    \"\"\"\n",
    "    Assigns start values to used variables.\n",
    "    :return: returns a string detailing the scores and the probability they will occur\n",
    "    \"\"\"\n",
    "    probability = {}\n",
    "    event_tuple = ()\n",
    "    die1, die2 = (1, 2, 3, 4, 5, 6), (1, 2, 3, 4, 5, 6)\n",
    "    string = \"\"\n",
    "\n",
    "    # Iterates through all possible scores and stores them in a counter\n",
    "    for i in die1:\n",
    "        for j in die2:\n",
    "            x = i + j\n",
    "            event_tuple = event_tuple + (str(x),)\n",
    "    events = Counter(event_tuple)\n",
    "\n",
    "    # takes the counter of the scores and calculates their probability stores them in a variable\n",
    "    for i in events.items():\n",
    "        probability = probability | {str(i[0]): i[1] / events.total()}\n",
    "\n",
    "    # create a formatted string of all the possible scores and their probability\n",
    "    for i in list(probability):\n",
    "        string = string + f\"A score of {i} has a {'{0:.0%}'.format(round(probability[str(i)], 2))} of occurring.\\n\"\n",
    "    return string\n",
    "\n",
    "\n",
    "print(f\"{Prob()}\")"
   ]
  },
  {
   "cell_type": "code",
   "execution_count": null,
   "id": "bd25e089",
   "metadata": {},
   "outputs": [],
   "source": []
  }
 ],
 "metadata": {
  "kernelspec": {
   "display_name": "Python 3 (ipykernel)",
   "language": "python",
   "name": "python3"
  },
  "language_info": {
   "codemirror_mode": {
    "name": "ipython",
    "version": 3
   },
   "file_extension": ".py",
   "mimetype": "text/x-python",
   "name": "python",
   "nbconvert_exporter": "python",
   "pygments_lexer": "ipython3",
   "version": "3.10.11"
  }
 },
 "nbformat": 4,
 "nbformat_minor": 5
}
